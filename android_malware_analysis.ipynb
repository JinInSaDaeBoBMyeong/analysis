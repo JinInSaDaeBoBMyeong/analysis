{
  "nbformat": 4,
  "nbformat_minor": 0,
  "metadata": {
    "colab": {
      "provenance": [],
      "collapsed_sections": []
    },
    "kernelspec": {
      "name": "python3",
      "display_name": "Python 3"
    },
    "language_info": {
      "name": "python"
    }
  },
  "cells": [
    {
      "cell_type": "markdown",
      "source": [
        "## **1. Datasest Creation**"
      ],
      "metadata": {
        "id": "Erfmdib9dH6q"
      }
    },
    {
      "cell_type": "code",
      "source": [
        "import os\n",
        "\n",
        "# find the dataset here: https://www.unb.ca/cic/datasets/invesandmal2019.html\n",
        "!wget http://205.174.165.80/CICDataset/CICInvesAndMal2019/Dataset/APKs/Adware.zip\n",
        "!wget http://205.174.165.80/CICDataset/CICInvesAndMal2019/Dataset/APKs/PremiumSMS.zip\n",
        "!wget http://205.174.165.80/CICDataset/CICInvesAndMal2019/Dataset/APKs/Ransomware.zip\n",
        "!wget http://205.174.165.80/CICDataset/CICInvesAndMal2019/Dataset/APKs/SMS.zip\n",
        "!wget http://205.174.165.80/CICDataset/CICInvesAndMal2019/Dataset/APKs/Scareware.zip\n",
        "\n",
        "!wget http://205.174.165.80/CICDataset/CICInvesAndMal2019/Dataset/APKs/Benign_2015.zip\n",
        "!wget http://205.174.165.80/CICDataset/CICInvesAndMal2019/Dataset/APKs/Benign_2016.zip\n",
        "!wget http://205.174.165.80/CICDataset/CICInvesAndMal2019/Dataset/APKs/Benign_2017.zip\n",
        "\n",
        "!unzip /content/Adware.zip\n",
        "os.remove('/content/Adware.zip')\n",
        "!unzip /content/PremiumSMS.zip\n",
        "os.remove('/content/PremiumSMS.zip')\n",
        "!unzip /content/SMS.zip\n",
        "os.remove('/content/SMS.zip')\n",
        "!unzip /content/Ransomware.zip\n",
        "os.remove('/content/Ransomware.zip')\n",
        "!unzip /content/Scareware.zip\n",
        "os.remove('/content/Scareware.zip')\n",
        "\n",
        "!unzip /content/Benign_2015.zip\n",
        "os.remove('/content/Benign_2015.zip')\n",
        "!unzip /content/Benign_2016.zip\n",
        "os.remove('/content/Benign_2016.zip')\n",
        "!unzip /content/Benign_2017.zip\n",
        "os.remove('/content/Benign_2017.zip')"
      ],
      "metadata": {
        "id": "CdPWCd1ZdMOq"
      },
      "execution_count": null,
      "outputs": []
    },
    {
      "cell_type": "code",
      "source": [
        "import zipfile\n",
        "\n",
        "#zip 파일 풀기\n",
        "for root, dirs, files in os.walk('/content/mal'):\n",
        "  for file in files:\n",
        "    if file.endswith('.zip'):\n",
        "      try:\n",
        "        with zipfile.ZipFile(os.path.join(root,file), 'r') as zip_ref:\n",
        "          zip_ref.extractall()\n",
        "        os.remove(os.path.join(root,file))\n",
        "      except:\n",
        "        os.remove(os.path.join(root,file))\n",
        "for root, dirs, files in os.walk('/content/mal'):\n",
        "  for file in files:\n",
        "    if file.endswith('.apk'):\n",
        "      print(file)\n",
        "      shutil.copy(os.path.join(root,file), '/content/dataset/malign/')\n",
        "      os.remove(os.path.join(root,file))"
      ],
      "metadata": {
        "id": "6lIqiSmWdeGh"
      },
      "execution_count": null,
      "outputs": []
    },
    {
      "cell_type": "code",
      "source": [
        "import os, sys, stat \n",
        "\n",
        "# malign, benign 개수 구하기\n",
        "malign = '/content/drive/MyDrive/Dataset/dataset/malign'\n",
        "benign = '/content/drive/MyDrive/Dataset/dataset/benign'\n",
        "countM = 0\n",
        "countB = 0\n",
        "\n",
        "for entry in os.scandir(benign):\n",
        "  if entry.path.endswith(\".apk\") and entry.is_file():\n",
        "          countB += 1\n",
        "for entry in os.scandir(malign):\n",
        "  if entry.path.endswith(\".apk\") and entry.is_file():\n",
        "          countM += 1\n",
        "          \n",
        "print('benign : ', countB)\n",
        "print('malign : ', countM)"
      ],
      "metadata": {
        "id": "IxDbAaVEdsrC"
      },
      "execution_count": null,
      "outputs": []
    },
    {
      "cell_type": "code",
      "source": [
        "!pip install androguard"
      ],
      "metadata": {
        "id": "0UTUo9m_d-xD"
      },
      "execution_count": null,
      "outputs": []
    },
    {
      "cell_type": "code",
      "source": [
        "import os, sys, stat \n",
        "import warnings\n",
        "from androguard.core.bytecodes.apk import APK\n",
        "warnings.filterwarnings(\"ignore\")\n",
        "\n",
        "# androguard 로 apk permission 추출\n",
        "malign = '/content/drive/MyDrive/Dataset/dataset/malign'\n",
        "benign = '/content/drive/MyDrive/Dataset/dataset/benign'\n",
        "\n",
        "permissions =  []\n",
        "countM = 0\n",
        "countB = 0\n",
        "\n",
        "for entry in os.scandir(benign):\n",
        "  if entry.path.endswith(\".apk\") and entry.is_file():\n",
        "          try:\n",
        "            a = APK(entry.path)\n",
        "            perm = a.get_permissions()\n",
        "            countB += 1\n",
        "            for per in perm:\n",
        "              if per not in permissions and per.startswith('android.permission'):\n",
        "                permissions.append(per)\n",
        "          except:\n",
        "            os.remove(entry.path)\n",
        "  print('benign : ', perm)          \n",
        "\n",
        "for entry in os.scandir(malign):\n",
        "  if entry.path.endswith(\".apk\") and entry.is_file():\n",
        "          try:\n",
        "            a = APK(entry.path)\n",
        "            perm = a.get_permissions()\n",
        "            countM += 1\n",
        "            for per in perm:\n",
        "              if per not in permissions and per.startswith('android.permission'):\n",
        "                permissions.append(per)\n",
        "          except:\n",
        "            os.remove(entry.path)\n",
        "  print('malign : ', perm)"
      ],
      "metadata": {
        "id": "FHkyZ-JYeCpU"
      },
      "execution_count": null,
      "outputs": []
    },
    {
      "cell_type": "code",
      "source": [
        "import pandas as pd\n",
        "default = open('/content/drive/My Drive/android_permissions.txt','r').readlines()\n",
        "perms = [s.rstrip('\\n') for s in default]\n",
        "for p in permissions:\n",
        "  if p not in perms:\n",
        "    perms.append(p)\n",
        "print(len(perms))\n",
        "\n",
        "with open('/content/drive/My Drive/use_permissions.txt','w+') as f:\n",
        "  for p in perms:\n",
        "    f.write(p + '\\n')\n",
        "\n",
        "pe = []\n",
        "with open('/content/drive/My Drive/use_permissions.txt','r') as a:\n",
        "  content = a.readlines()\n",
        "  for line in content:\n",
        "    cur_perm = line[:-1]\n",
        "    pe.append(cur_perm)\n",
        "len(pe)\n",
        "print(pe)"
      ],
      "metadata": {
        "id": "YxZxTygue0HD",
        "colab": {
          "base_uri": "https://localhost:8080/"
        },
        "outputId": "e01950ed-b7f3-4dcd-bafa-740ecc77c75e"
      },
      "execution_count": 5,
      "outputs": [
        {
          "output_type": "stream",
          "name": "stdout",
          "text": [
            "428\n",
            "['android.permission.ACCESS_ALL_DOWNLOADS', 'android.permission.ACCESS_BLUETOOTH_SHARE', 'android.permission.ACCESS_CACHE_FILESYSTEM', 'android.permission.ACCESS_CHECKIN_PROPERTIES', 'android.permission.ACCESS_CONTENT_PROVIDERS_EXTERNALLY', 'android.permission.ACCESS_DOWNLOAD_MANAGER', 'android.permission.ACCESS_DOWNLOAD_MANAGER_ADVANCED', 'android.permission.ACCESS_DRM_CERTIFICATES', 'android.permission.ACCESS_EPHEMERAL_APPS', 'android.permission.ACCESS_FM_RADIO', 'android.permission.ACCESS_INPUT_FLINGER', 'android.permission.ACCESS_KEYGUARD_SECURE_STORAGE', 'android.permission.ACCESS_LOCATION_EXTRA_COMMANDS', 'android.permission.ACCESS_MOCK_LOCATION', 'android.permission.ACCESS_MTP', 'android.permission.ACCESS_NETWORK_CONDITIONS', 'android.permission.ACCESS_NETWORK_STATE', 'android.permission.ACCESS_NOTIFICATIONS', 'android.permission.ACCESS_NOTIFICATION_POLICY', 'android.permission.ACCESS_PDB_STATE', 'android.permission.ACCESS_SURFACE_FLINGER', 'android.permission.ACCESS_VOICE_INTERACTION_SERVICE', 'android.permission.ACCESS_VR_MANAGER', 'android.permission.ACCESS_WIFI_STATE', 'android.permission.ACCESS_WIMAX_STATE', 'android.permission.ACCOUNT_MANAGER', 'android.permission.ALLOW_ANY_CODEC_FOR_PLAYBACK', 'android.permission.ASEC_ACCESS', 'android.permission.ASEC_CREATE', 'android.permission.ASEC_DESTROY', 'android.permission.ASEC_MOUNT_UNMOUNT', 'android.permission.ASEC_RENAME', 'android.permission.AUTHENTICATE_ACCOUNTS', 'android.permission.BACKUP', 'android.permission.BATTERY_STATS', 'android.permission.BIND_ACCESSIBILITY_SERVICE', 'android.permission.BIND_APPWIDGET', 'android.permission.BIND_CARRIER_MESSAGING_SERVICE', 'android.permission.BIND_CARRIER_SERVICES', 'android.permission.BIND_CHOOSER_TARGET_SERVICE', 'android.permission.BIND_CONDITION_PROVIDER_SERVICE', 'android.permission.BIND_CONNECTION_SERVICE', 'android.permission.BIND_DEVICE_ADMIN', 'android.permission.BIND_DIRECTORY_SEARCH', 'android.permission.BIND_DREAM_SERVICE', 'android.permission.BIND_INCALL_SERVICE', 'android.permission.BIND_INPUT_METHOD', 'android.permission.BIND_INTENT_FILTER_VERIFIER', 'android.permission.BIND_JOB_SERVICE', 'android.permission.BIND_KEYGUARD_APPWIDGET', 'android.permission.BIND_MIDI_DEVICE_SERVICE', 'android.permission.BIND_NFC_SERVICE', 'android.permission.BIND_NOTIFICATION_LISTENER_SERVICE', 'android.permission.BIND_NOTIFICATION_RANKER_SERVICE', 'android.permission.BIND_PACKAGE_VERIFIER', 'android.permission.BIND_PRINT_RECOMMENDATION_SERVICE', 'android.permission.BIND_PRINT_SERVICE', 'android.permission.BIND_PRINT_SPOOLER_SERVICE', 'android.permission.BIND_QUICK_SETTINGS_TILE', 'android.permission.BIND_REMOTEVIEWS', 'android.permission.BIND_REMOTE_DISPLAY', 'android.permission.BIND_ROUTE_PROVIDER', 'android.permission.BIND_RUNTIME_PERMISSION_PRESENTER_SERVICE', 'android.permission.BIND_SCREENING_SERVICE', 'android.permission.BIND_TELECOM_CONNECTION_SERVICE', 'android.permission.BIND_TEXT_SERVICE', 'android.permission.BIND_TRUST_AGENT', 'android.permission.BIND_TV_INPUT', 'android.permission.BIND_TV_REMOTE_SERVICE', 'android.permission.BIND_VOICE_INTERACTION', 'android.permission.BIND_VPN_SERVICE', 'android.permission.BIND_VR_LISTENER_SERVICE', 'android.permission.BIND_WALLPAPER', 'android.permission.BLUETOOTH', 'android.permission.BLUETOOTH_ADMIN', 'android.permission.BLUETOOTH_MAP', 'android.permission.BLUETOOTH_PRIVILEGED', 'android.permission.BLUETOOTH_STACK', 'android.permission.BRICK', 'android.permission.BROADCAST_CALLLOG_INFO', 'android.permission.BROADCAST_NETWORK_PRIVILEGED', 'android.permission.BROADCAST_PACKAGE_REMOVED', 'android.permission.BROADCAST_PHONE_ACCOUNT_REGISTRATION', 'android.permission.BROADCAST_SMS', 'android.permission.BROADCAST_STICKY', 'android.permission.BROADCAST_WAP_PUSH', 'android.permission.CACHE_CONTENT', 'android.permission.CALL_PRIVILEGED', 'android.permission.CAMERA_DISABLE_TRANSMIT_LED', 'android.permission.CAMERA_SEND_SYSTEM_EVENTS', 'android.permission.CAPTURE_AUDIO_HOTWORD', 'android.permission.CAPTURE_AUDIO_OUTPUT', 'android.permission.CAPTURE_SECURE_VIDEO_OUTPUT', 'android.permission.CAPTURE_TV_INPUT', 'android.permission.CAPTURE_VIDEO_OUTPUT', 'android.permission.CARRIER_FILTER_SMS', 'android.permission.CHANGE_APP_IDLE_STATE', 'android.permission.CHANGE_BACKGROUND_DATA_SETTING', 'android.permission.CHANGE_COMPONENT_ENABLED_STATE', 'android.permission.CHANGE_CONFIGURATION', 'android.permission.CHANGE_DEVICE_IDLE_TEMP_WHITELIST', 'android.permission.CHANGE_NETWORK_STATE', 'android.permission.CHANGE_WIFI_MULTICAST_STATE', 'android.permission.CHANGE_WIFI_STATE', 'android.permission.CHANGE_WIMAX_STATE', 'android.permission.CLEAR_APP_CACHE', 'android.permission.CLEAR_APP_GRANTED_URI_PERMISSIONS', 'android.permission.CLEAR_APP_USER_DATA', 'android.permission.CONFIGURE_DISPLAY_COLOR_TRANSFORM', 'android.permission.CONFIGURE_WIFI_DISPLAY', 'android.permission.CONFIRM_FULL_BACKUP', 'android.permission.CONNECTIVITY_INTERNAL', 'android.permission.CONTROL_INCALL_EXPERIENCE', 'android.permission.CONTROL_KEYGUARD', 'android.permission.CONTROL_LOCATION_UPDATES', 'android.permission.CONTROL_VPN', 'android.permission.CONTROL_WIFI_DISPLAY', 'android.permission.COPY_PROTECTED_DATA', 'android.permission.CREATE_USERS', 'android.permission.CRYPT_KEEPER', 'android.permission.DELETE_CACHE_FILES', 'android.permission.DELETE_PACKAGES', 'android.permission.DEVICE_POWER', 'android.permission.DIAGNOSTIC', 'android.permission.DISABLE_KEYGUARD', 'android.permission.DISPATCH_NFC_MESSAGE', 'android.permission.DISPATCH_PROVISIONING_MESSAGE', 'android.permission.DOWNLOAD_CACHE_NON_PURGEABLE', 'android.permission.DUMP', 'android.permission.DVB_DEVICE', 'android.permission.EXPAND_STATUS_BAR', 'android.permission.FACTORY_TEST', 'android.permission.FILTER_EVENTS', 'android.permission.FLASHLIGHT', 'android.permission.FORCE_BACK', 'android.permission.FORCE_STOP_PACKAGES', 'android.permission.FRAME_STATS', 'android.permission.FREEZE_SCREEN', 'android.permission.GET_ACCOUNTS_PRIVILEGED', 'android.permission.GET_APP_GRANTED_URI_PERMISSIONS', 'android.permission.GET_APP_OPS_STATS', 'android.permission.GET_DETAILED_TASKS', 'android.permission.GET_INTENT_SENDER_INTENT', 'android.permission.GET_PACKAGE_IMPORTANCE', 'android.permission.GET_PACKAGE_SIZE', 'android.permission.GET_PASSWORD', 'android.permission.GET_PROCESS_STATE_AND_OOM_SCORE', 'android.permission.GET_TASKS', 'android.permission.GET_TOP_ACTIVITY_INFO', 'android.permission.GLOBAL_SEARCH', 'android.permission.GLOBAL_SEARCH_CONTROL', 'android.permission.GRANT_RUNTIME_PERMISSIONS', 'android.permission.HARDWARE_TEST', 'android.permission.HDMI_CEC', 'android.permission.INJECT_EVENTS', 'android.permission.INSTALL_GRANT_RUNTIME_PERMISSIONS', 'android.permission.INSTALL_LOCATION_PROVIDER', 'android.permission.INSTALL_PACKAGES', 'android.permission.INTENT_FILTER_VERIFICATION_AGENT', 'android.permission.INTERACT_ACROSS_USERS', 'android.permission.INTERACT_ACROSS_USERS_FULL', 'android.permission.INTERNAL_SYSTEM_WINDOW', 'android.permission.INTERNET', 'android.permission.INVOKE_CARRIER_SETUP', 'android.permission.KILL_BACKGROUND_PROCESSES', 'android.permission.KILL_UID', 'android.permission.LAUNCH_TRUST_AGENT_SETTINGS', 'android.permission.LOCAL_MAC_ADDRESS', 'android.permission.LOCATION_HARDWARE', 'android.permission.LOOP_RADIO', 'android.permission.MANAGE_ACCOUNTS', 'android.permission.MANAGE_ACTIVITY_STACKS', 'android.permission.MANAGE_APP_OPS_RESTRICTIONS', 'android.permission.MANAGE_APP_TOKENS', 'android.permission.MANAGE_CA_CERTIFICATES', 'android.permission.MANAGE_DEVICE_ADMINS', 'android.permission.MANAGE_DOCUMENTS', 'android.permission.MANAGE_FINGERPRINT', 'android.permission.MANAGE_MEDIA_PROJECTION', 'android.permission.MANAGE_NETWORK_POLICY', 'android.permission.MANAGE_NOTIFICATIONS', 'android.permission.MANAGE_PROFILE_AND_DEVICE_OWNERS', 'android.permission.MANAGE_SOUND_TRIGGER', 'android.permission.MANAGE_USB', 'android.permission.MANAGE_USERS', 'android.permission.MANAGE_VOICE_KEYPHRASES', 'android.permission.MASTER_CLEAR', 'android.permission.MEDIA_CONTENT_CONTROL', 'android.permission.MODIFY_APPWIDGET_BIND_PERMISSIONS', 'android.permission.MODIFY_AUDIO_ROUTING', 'android.permission.MODIFY_AUDIO_SETTINGS', 'android.permission.MODIFY_CELL_BROADCASTS', 'android.permission.MODIFY_DAY_NIGHT_MODE', 'android.permission.MODIFY_NETWORK_ACCOUNTING', 'android.permission.MODIFY_PARENTAL_CONTROLS', 'android.permission.MODIFY_PHONE_STATE', 'android.permission.MOUNT_FORMAT_FILESYSTEMS', 'android.permission.MOUNT_UNMOUNT_FILESYSTEMS', 'android.permission.MOVE_PACKAGE', 'android.permission.NET_ADMIN', 'android.permission.NET_TUNNELING', 'android.permission.NFC', 'android.permission.NFC_HANDOVER_STATUS', 'android.permission.NOTIFY_PENDING_SYSTEM_UPDATE', 'android.permission.OBSERVE_GRANT_REVOKE_PERMISSIONS', 'android.permission.OEM_UNLOCK_STATE', 'android.permission.OVERRIDE_WIFI_CONFIG', 'android.permission.PACKAGE_USAGE_STATS', 'android.permission.PACKAGE_VERIFICATION_AGENT', 'android.permission.PACKET_KEEPALIVE_OFFLOAD', 'android.permission.PEERS_MAC_ADDRESS', 'android.permission.PERFORM_CDMA_PROVISIONING', 'android.permission.PERFORM_SIM_ACTIVATION', 'android.permission.PERSISTENT_ACTIVITY', 'android.permission.PROCESS_CALLLOG_INFO', 'android.permission.PROCESS_PHONE_ACCOUNT_REGISTRATION', 'android.permission.PROVIDE_TRUST_AGENT', 'android.permission.QUERY_DO_NOT_ASK_CREDENTIALS_ON_BOOT', 'android.permission.READ_BLOCKED_NUMBERS', 'android.permission.READ_DREAM_STATE', 'android.permission.READ_FRAME_BUFFER', 'android.permission.READ_INPUT_STATE', 'android.permission.READ_INSTALL_SESSIONS', 'android.permission.READ_LOGS', 'android.permission.READ_NETWORK_USAGE_HISTORY', 'android.permission.READ_OEM_UNLOCK_STATE', 'android.permission.READ_PRECISE_PHONE_STATE', 'android.permission.READ_PRIVILEGED_PHONE_STATE', 'android.permission.READ_PROFILE', 'android.permission.READ_SEARCH_INDEXABLES', 'android.permission.READ_SOCIAL_STREAM', 'android.permission.READ_SYNC_SETTINGS', 'android.permission.READ_SYNC_STATS', 'android.permission.READ_USER_DICTIONARY', 'android.permission.READ_WIFI_CREDENTIAL', 'android.permission.REAL_GET_TASKS', 'android.permission.REBOOT', 'android.permission.RECEIVE_BLUETOOTH_MAP', 'android.permission.RECEIVE_BOOT_COMPLETED', 'android.permission.RECEIVE_DATA_ACTIVITY_CHANGE', 'android.permission.RECEIVE_EMERGENCY_BROADCAST', 'android.permission.RECEIVE_MEDIA_RESOURCE_USAGE', 'android.permission.RECEIVE_STK_COMMANDS', 'android.permission.RECEIVE_WIFI_CREDENTIAL_CHANGE', 'android.permission.RECOVERY', 'android.permission.REGISTER_CALL_PROVIDER', 'android.permission.REGISTER_CONNECTION_MANAGER', 'android.permission.REGISTER_SIM_SUBSCRIPTION', 'android.permission.REGISTER_WINDOW_MANAGER_LISTENERS', 'android.permission.REMOTE_AUDIO_PLAYBACK', 'android.permission.REMOVE_DRM_CERTIFICATES', 'android.permission.REMOVE_TASKS', 'android.permission.REORDER_TASKS', 'android.permission.REQUEST_IGNORE_BATTERY_OPTIMIZATIONS', 'android.permission.REQUEST_INSTALL_PACKAGES', 'android.permission.RESET_FINGERPRINT_LOCKOUT', 'android.permission.RESET_SHORTCUT_MANAGER_THROTTLING', 'android.permission.RESTART_PACKAGES', 'android.permission.RETRIEVE_WINDOW_CONTENT', 'android.permission.RETRIEVE_WINDOW_TOKEN', 'android.permission.REVOKE_RUNTIME_PERMISSIONS', 'android.permission.SCORE_NETWORKS', 'android.permission.SEND_CALL_LOG_CHANGE', 'android.permission.SEND_DOWNLOAD_COMPLETED_INTENTS', 'android.permission.SEND_RESPOND_VIA_MESSAGE', 'android.permission.SEND_SMS_NO_CONFIRMATION', 'android.permission.SERIAL_PORT', 'android.permission.SET_ACTIVITY_WATCHER', 'android.permission.SET_ALWAYS_FINISH', 'android.permission.SET_ANIMATION_SCALE', 'android.permission.SET_DEBUG_APP', 'android.permission.SET_INPUT_CALIBRATION', 'android.permission.SET_KEYBOARD_LAYOUT', 'android.permission.SET_ORIENTATION', 'android.permission.SET_POINTER_SPEED', 'android.permission.SET_PREFERRED_APPLICATIONS', 'android.permission.SET_PROCESS_LIMIT', 'android.permission.SET_SCREEN_COMPATIBILITY', 'android.permission.SET_TIME', 'android.permission.SET_TIME_ZONE', 'android.permission.SET_WALLPAPER', 'android.permission.SET_WALLPAPER_COMPONENT', 'android.permission.SET_WALLPAPER_HINTS', 'android.permission.SHUTDOWN', 'android.permission.SIGNAL_PERSISTENT_PROCESSES', 'android.permission.START_ANY_ACTIVITY', 'android.permission.START_PRINT_SERVICE_CONFIG_ACTIVITY', 'android.permission.START_TASKS_FROM_RECENTS', 'android.permission.STATUS_BAR', 'android.permission.STATUS_BAR_SERVICE', 'android.permission.STOP_APP_SWITCHES', 'android.permission.STORAGE_INTERNAL', 'android.permission.SUBSCRIBED_FEEDS_READ', 'android.permission.SUBSCRIBED_FEEDS_WRITE', 'android.permission.SUBSTITUTE_NOTIFICATION_APP_NAME', 'android.permission.SYSTEM_ALERT_WINDOW', 'android.permission.TABLET_MODE', 'android.permission.TEMPORARY_ENABLE_ACCESSIBILITY', 'android.permission.TETHER_PRIVILEGED', 'android.permission.TRANSMIT_IR', 'android.permission.TRUST_LISTENER', 'android.permission.TV_INPUT_HARDWARE', 'android.permission.TV_VIRTUAL_REMOTE_CONTROLLER', 'android.permission.UPDATE_APP_OPS_STATS', 'android.permission.UPDATE_CONFIG', 'android.permission.UPDATE_DEVICE_STATS', 'android.permission.UPDATE_LOCK', 'android.permission.UPDATE_LOCK_TASK_PACKAGES', 'android.permission.USER_ACTIVITY', 'android.permission.USE_CREDENTIALS', 'android.permission.VIBRATE', 'android.permission.WAKE_LOCK', 'android.permission.WRITE_APN_SETTINGS', 'android.permission.WRITE_BLOCKED_NUMBERS', 'android.permission.WRITE_DREAM_STATE', 'android.permission.WRITE_GSERVICES', 'android.permission.WRITE_MEDIA_STORAGE', 'android.permission.WRITE_PROFILE', 'android.permission.WRITE_SECURE_SETTINGS', 'android.permission.WRITE_SETTINGS', 'android.permission.WRITE_SMS', 'android.permission.WRITE_SOCIAL_STREAM', 'android.permission.WRITE_SYNC_SETTINGS', 'android.permission.WRITE_USER_DICTIONARY', 'android.permission.ACCESS_COARSE_LOCATION', 'android.permission.WRITE_EXTERNAL_STORAGE', 'android.permission.CALL_PHONE', 'android.permission.READ_PHONE_STATE', 'android.permission.STORAGE', 'android.permission.READ_EXTERNAL_STORAGE', 'android.permission.READ_CONTACTS', 'android.permission.WRITE_CONTACTS', 'android.permission.GET_ACCOUNTS', 'android.permission.ACCESS_FINE_LOCATION', 'android.permission.CAMERA', 'android.permission.USE_FINGERPRINT', 'android.permission.READ_CALENDAR', 'android.permission.WRITE_CALENDAR', 'android.permission.ACCESS_CORSE_LOCATION', 'android.permission.PREVENT_POWER_KEY', 'android.permission.READ_APP_BADGE', 'android.permission.SEND_SMS', 'android.permission.READ_SMS', 'android.permission.RECEIVE_SMS', 'android.permission.RECORD_AUDIO', 'android.permission.INSTALL_DRM', 'android.permission.RECEIVE_MMS', 'android.permission.RECEIVE_WAP_PUSH', 'android.permission.WRITE_OWNER_DATA', 'android.permission.READ_OWNER_DATA', 'android.permission.PROCESS_OUTGOING_CALLS', 'android.permission.sec.MDM_LICENSE_INTERNAL', 'android.permission.sec.ENTERPRISE_DEVICE_ADMIN', 'android.permission.sec.MDM_REMOTE_CONTROL', 'android.permission.sec.MDM_PHONE_RESTRICTION', 'android.permission..BILLING', 'android.permission.WIFI_STATE', 'android.permission.NETWORK_STATE', 'android.permission.ACCESS_GPS', 'android.permission.BAIDU_LOCATION_SERVICE', 'android.permission.WRITE_INTERNAL_STORAGE', 'android.permissions.READ_DATABASE', 'android.permission.NETWORK', 'android.permission.ACCESS_SUPERUSER', 'android.permission.WRITE_CALL_LOG', 'android.permission.READ_MEDIA_STORAGE', 'android.permission.READ_CALL_LOG', 'android.permission.USB', 'android.permission.ACCESS_LOCATION', 'android.permission.VIBRATION', 'android.permission.SYSTEM_OVERLAY_WINDOW', 'android.permission.READ_SETTINGS', 'android.permission.READ_SECURE_SETTINGS', 'android.permission.RECEIVE_USER_PRESENT', 'android.permission.DOWNLOAD_WITHOUT_NOTIFICATION', 'android.permission.ACCESS_DRM', 'android.permission.ACCESS_COARSE_UPDATES', 'android.permission.WRITE_EXTERNALssssss_STORAGE', 'android.permission.BROADCAST_PACKAGE_INSTALL', 'android.permission.BROADCAST_PACKAGE_CHANGED', 'android.permission.BROADCAST_PACKAGE_ADDED', 'android.permission.BROADCAST_PACKAGE_REPLACED', 'android.permission.MMS_SEND_OUTBOX_MSG', 'android.permission.ACCESS_ALL_EXTERNAL_STORAGE', 'android.permission.ACCESS_ASSISTED_GPS', 'android.permission.LOCATION', 'android.permission.RAISED_THREAD_PRIORITY', 'android.permission.RECORD_VIDEO', 'android.permission.C2D_MESSAGE', 'android.permission.ACCESS_PHONE_STATE', 'android.permission.PROCESS_INCOMING_CALLS', 'android.permission.USE_SIP', 'android.permission.ACTION_BOOT_COMPLETED', 'android.permission.ACCESS_WEATHERCLOCK_PROVIDER', 'android.permission.WRITE', 'android.permission.BODY_SENSORS', 'android.permission.READ_MMS', 'android.permission.STO', 'android.permission.READ_INTERNAL_STORAGE', 'android.permission.ACCESS_CELL_ID', 'android.permission.READ_PHONE_SINTERNETWIFI_STATE', 'android.permission.BILLING', 'android.permission.sec.MDM_SECURITY', 'android.permission.sec.MDM_CERTIFICATE', 'android.permission.c2dm.permission.RECEIVE', 'android.permission.air.escapegamestudio.AntarcticDolphinEscape.permission.C2D_MESSAGE', 'android.permission.UNINSTALL_SHORTCUT', 'android.permission.SET_ALARM', 'android.permission.INSTALL_SHORTCUT', 'android.permission.USES_POLICY_FORCE_LOCK', 'android.permission.ACCESS_MTK_MMHW', 'android.permission.ACCESS_WAKE_LOCK', 'android.permission.SET_PROCESS_FOREGROUND', 'android.permission.WRITE_SECURE', 'android.permission.ADD_SYSTEM_SERVICE', 'android.permission.WRITE_FRAME_BUFFER', 'android.permission.KILL_BACKGROUND_PROCESSE', 'android.permission.READ_HISTORY_BOOKMARKS', 'android.permission.RIDE_EXTERNAL_STORAGE', 'android.permission.RUN_INSTRUMENTATION', 'android.permission.ACTION_VIEW', 'android.permission.READ_CELL_BROADCASTS', 'android.permission.ROOT_RECOVERY_STATE', 'android.permission.QUICKBOOT_POWERON', 'android.permission.RECEIVE_BOOT_COMPLETE', 'android.permission.REQUEST_DELETE_PACKAGES', 'android.permission.ENABLE_KEYGUARD', 'android.permission.FOREGROUND_SERVICE']\n"
          ]
        }
      ]
    },
    {
      "cell_type": "code",
      "source": [
        "# permission -> csv\n",
        "\n",
        "dataset_df = pd.DataFrame(columns=perms)\n",
        "dataset_b = {}\n",
        "id = 0\n",
        "for entry in os.scandir(benign):\n",
        "  if entry.path.endswith(\".apk\") and entry.is_file():\n",
        "    a = APK(entry.path)\n",
        "    perm = a.get_permissions()\n",
        "    id += 1\n",
        "    for d in perms:\n",
        "      if d in perm:\n",
        "        dataset_b[d]=1\n",
        "      else:\n",
        "        dataset_b[d]=0\n",
        "    dataset_b['class'] = 'benign'\n",
        "    dataset_df=dataset_df.append(dataset_b, ignore_index=True)\n",
        "dataset_m = {}\n",
        "for entry in os.scandir(malign):\n",
        "  if entry.path.endswith(\".apk\") and entry.is_file():\n",
        "    a = APK(entry.path)\n",
        "    perm = a.get_permissions()\n",
        "    id += 1\n",
        "    for d in perms:\n",
        "      if d in perm:\n",
        "        dataset_m[d]=1\n",
        "      else:\n",
        "        dataset_m[d]=0\n",
        "    dataset_m['class'] = 'malign'\n",
        "    dataset_df=dataset_df.append(dataset_m, ignore_index=True)\n",
        "\n",
        "dataset_df.to_csv('/content/drive/My Drive/Dataset/dataset/android_dataset.csv', index=False)\n",
        "   "
      ],
      "metadata": {
        "id": "zttDvtCqiaPz"
      },
      "execution_count": null,
      "outputs": []
    },
    {
      "cell_type": "markdown",
      "source": [
        "## **2. SVM : SVC with Grid Search to tune model**"
      ],
      "metadata": {
        "id": "Ec3xb_6kjC21"
      }
    },
    {
      "cell_type": "code",
      "source": [
        "import sklearn\n",
        "import pickle\n",
        "from sklearn.svm import SVC\n",
        "from sklearn.model_selection import train_test_split, GridSearchCV\n",
        "from sklearn.metrics import classification_report, confusion_matrix \n",
        "from androguard.core.bytecodes.apk import APK\n",
        "import warnings\n",
        "warnings.filterwarnings(action='ignore')\n",
        "\n",
        "Y = dataset_df['class']\n",
        "X = dataset_df.drop(['class'], axis=1)\n",
        "\n",
        "X_train, X_test, y_train, y_test = train_test_split(X, Y, test_size=0.2)\n",
        "\n",
        "# defining parameter range  - 후에 더 정밀한 값 넣기\n",
        "param_grid = {'C': [0.1, 1, 10, 100, 1000], \n",
        "\t\t\t'gamma': [1, 0.1, 0.01, 0.001, 0.0001], \n",
        "\t\t\t'kernel': ['rbf']} \n",
        "\n",
        "grid = GridSearchCV(SVC(), param_grid, refit = True, verbose = 1) \n",
        "\n",
        "# fitting the model for grid search \n",
        "grid.fit(X_train, y_train) \n",
        "print(grid.best_params_) \n",
        "\n",
        "# predict\n",
        "grid_predictions = grid.predict(X_test) \n",
        "\n",
        "# print classification report \n",
        "print(classification_report(y_test, grid_predictions)) \n",
        "pickle.dump(grid, open('/content/drive/MyDrive/svc_new.pkl', 'wb'))\n",
        "\n",
        "def predict(apk):\n",
        "  vector = {}\n",
        "  a = APK(apk)\n",
        "  perm = a.get_permissions()\n",
        "  print(perm)\n",
        "  for d in perms:\n",
        "    if d in perm:\n",
        "      vector[d]=1\n",
        "    else:\n",
        "      vector[d]=0\n",
        "  input = [ v for v in vector.values() ]\n",
        "  print(input)\n",
        "  print('result :', grid.predict([input]))\n",
        "\n",
        "# test\n",
        "# malign apk\n",
        "predict('/content/drive/MyDrive/Dataset/1c53e2c34d1219a2fae8fcf8ec872ac8.apk')\n",
        "# benign apk\n",
        "predict('/content/drive/MyDrive/Dataset/a.envisionmobile.caa.apk')"
      ],
      "metadata": {
        "colab": {
          "base_uri": "https://localhost:8080/"
        },
        "id": "dZrNKS-AizKd",
        "outputId": "0dd66e7c-6cc4-4e25-a2be-8196d38cdafc"
      },
      "execution_count": 11,
      "outputs": [
        {
          "output_type": "stream",
          "name": "stdout",
          "text": [
            "Fitting 5 folds for each of 25 candidates, totalling 125 fits\n",
            "{'C': 10, 'gamma': 0.1, 'kernel': 'rbf'}\n",
            "              precision    recall  f1-score   support\n",
            "\n",
            "      benign       0.89      0.95      0.92       149\n",
            "      malign       0.90      0.81      0.85        94\n",
            "\n",
            "    accuracy                           0.89       243\n",
            "   macro avg       0.90      0.88      0.88       243\n",
            "weighted avg       0.89      0.89      0.89       243\n",
            "\n",
            "['android.permission.SYSTEM_ALERT_WINDOW', 'android.permission.READ_CONTACTS', 'android.permission.WRITE_EXTERNAL_STORAGE', 'android.permission.READ_PROFILE', 'android.permission.READ_PHONE_STATE', 'android.permission.CAMERA', 'android.permission.READ_EXTERNAL_STORAGE', 'android.permission.ACCESS_NETWORK_STATE', 'android.permission.WAKE_LOCK', 'com.android.browser.permission.READ_HISTORY_BOOKMARKS', 'android.permission.GET_ACCOUNTS', 'android.permission.RECEIVE_BOOT_COMPLETED', 'android.permission.GET_TASKS', 'android.permission.VIBRATE', 'android.permission.WRITE_SETTINGS', 'android.permission.INTERNET']\n",
            "[0, 0, 0, 0, 0, 0, 0, 0, 0, 0, 0, 0, 0, 0, 0, 0, 1, 0, 0, 0, 0, 0, 0, 0, 0, 0, 0, 0, 0, 0, 0, 0, 0, 0, 0, 0, 0, 0, 0, 0, 0, 0, 0, 0, 0, 0, 0, 0, 0, 0, 0, 0, 0, 0, 0, 0, 0, 0, 0, 0, 0, 0, 0, 0, 0, 0, 0, 0, 0, 0, 0, 0, 0, 0, 0, 0, 0, 0, 0, 0, 0, 0, 0, 0, 0, 0, 0, 0, 0, 0, 0, 0, 0, 0, 0, 0, 0, 0, 0, 0, 0, 0, 0, 0, 0, 0, 0, 0, 0, 0, 0, 0, 0, 0, 0, 0, 0, 0, 0, 0, 0, 0, 0, 0, 0, 0, 0, 0, 0, 0, 0, 0, 0, 0, 0, 0, 0, 0, 0, 0, 0, 0, 0, 0, 0, 0, 0, 1, 0, 0, 0, 0, 0, 0, 0, 0, 0, 0, 0, 0, 0, 0, 1, 0, 0, 0, 0, 0, 0, 0, 0, 0, 0, 0, 0, 0, 0, 0, 0, 0, 0, 0, 0, 0, 0, 0, 0, 0, 0, 0, 0, 0, 0, 0, 0, 0, 0, 0, 0, 0, 0, 0, 0, 0, 0, 0, 0, 0, 0, 0, 0, 0, 0, 0, 0, 0, 0, 0, 0, 0, 0, 0, 0, 0, 0, 0, 0, 0, 1, 0, 0, 0, 0, 0, 0, 0, 0, 0, 1, 0, 0, 0, 0, 0, 0, 0, 0, 0, 0, 0, 0, 0, 0, 0, 0, 0, 0, 0, 0, 0, 0, 0, 0, 0, 0, 0, 0, 0, 0, 0, 0, 0, 0, 0, 0, 0, 0, 0, 0, 0, 0, 0, 0, 0, 0, 0, 0, 0, 0, 0, 0, 0, 0, 0, 0, 1, 0, 0, 0, 0, 0, 0, 0, 0, 0, 0, 0, 0, 0, 0, 1, 1, 0, 0, 0, 0, 0, 0, 0, 1, 0, 0, 0, 0, 0, 1, 0, 1, 0, 1, 1, 0, 1, 0, 1, 0, 0, 0, 0, 0, 0, 0, 0, 0, 0, 0, 0, 0, 0, 0, 0, 0, 0, 0, 0, 0, 0, 0, 0, 0, 0, 0, 0, 0, 0, 0, 0, 0, 0, 0, 0, 0, 0, 0, 0, 0, 0, 0, 0, 0, 0, 0, 0, 0, 0, 0, 0, 0, 0, 0, 0, 0, 0, 0, 0, 0, 0, 0, 0, 0, 0, 0, 0, 0, 0, 0, 0, 0, 0, 0, 0, 0, 0, 0, 0, 0, 0, 0, 0, 0, 0, 0, 0, 0, 0, 0, 0, 0]\n",
            "result : ['malign']\n",
            "['android.permission.READ_CONTACTS', 'a.envisionmobile.caa.permission.C2D_MESSAGE', 'com.google.android.providers.gsf.permission.READ_GSERVICES', 'android.permission.WRITE_EXTERNAL_STORAGE', 'android.permission.RECORD_AUDIO', 'android.permission.READ_PHONE_STATE', 'com.aaa.android.aaamaps.permission.MAPS_RECEIVE', 'android.permission.CAMERA', 'android.permission.ACCESS_FINE_LOCATION', 'android.permission.ACCESS_NETWORK_STATE', 'com.google.android.c2dm.permission.RECEIVE', 'android.permission.WAKE_LOCK', 'android.permission.GET_ACCOUNTS', 'android.permission.MOUNT_UNMOUNT_FILESYSTEMS', 'android.permission.CALL_PHONE', 'android.permission.ACCESS_COARSE_LOCATION', 'android.permission.VIBRATE', 'android.permission.INTERNET']\n",
            "[0, 0, 0, 0, 0, 0, 0, 0, 0, 0, 0, 0, 0, 0, 0, 0, 1, 0, 0, 0, 0, 0, 0, 0, 0, 0, 0, 0, 0, 0, 0, 0, 0, 0, 0, 0, 0, 0, 0, 0, 0, 0, 0, 0, 0, 0, 0, 0, 0, 0, 0, 0, 0, 0, 0, 0, 0, 0, 0, 0, 0, 0, 0, 0, 0, 0, 0, 0, 0, 0, 0, 0, 0, 0, 0, 0, 0, 0, 0, 0, 0, 0, 0, 0, 0, 0, 0, 0, 0, 0, 0, 0, 0, 0, 0, 0, 0, 0, 0, 0, 0, 0, 0, 0, 0, 0, 0, 0, 0, 0, 0, 0, 0, 0, 0, 0, 0, 0, 0, 0, 0, 0, 0, 0, 0, 0, 0, 0, 0, 0, 0, 0, 0, 0, 0, 0, 0, 0, 0, 0, 0, 0, 0, 0, 0, 0, 0, 0, 0, 0, 0, 0, 0, 0, 0, 0, 0, 0, 0, 0, 0, 0, 1, 0, 0, 0, 0, 0, 0, 0, 0, 0, 0, 0, 0, 0, 0, 0, 0, 0, 0, 0, 0, 0, 0, 0, 0, 0, 0, 0, 0, 0, 0, 0, 0, 0, 0, 1, 0, 0, 0, 0, 0, 0, 0, 0, 0, 0, 0, 0, 0, 0, 0, 0, 0, 0, 0, 0, 0, 0, 0, 0, 0, 0, 0, 0, 0, 0, 0, 0, 0, 0, 0, 0, 0, 0, 0, 0, 0, 0, 0, 0, 0, 0, 0, 0, 0, 0, 0, 0, 0, 0, 0, 0, 0, 0, 0, 0, 0, 0, 0, 0, 0, 0, 0, 0, 0, 0, 0, 0, 0, 0, 0, 0, 0, 0, 0, 0, 0, 0, 0, 0, 0, 0, 0, 0, 0, 0, 0, 0, 0, 0, 0, 0, 0, 0, 0, 0, 0, 0, 0, 0, 0, 0, 0, 0, 0, 0, 0, 0, 1, 1, 0, 0, 0, 0, 0, 0, 0, 0, 0, 0, 0, 0, 1, 1, 1, 1, 0, 0, 1, 0, 1, 1, 1, 0, 0, 0, 0, 0, 0, 0, 0, 0, 1, 0, 0, 0, 0, 0, 0, 0, 0, 0, 0, 0, 0, 0, 0, 0, 0, 0, 0, 0, 0, 0, 0, 0, 0, 0, 0, 0, 0, 0, 0, 0, 0, 0, 0, 0, 0, 0, 0, 0, 0, 0, 0, 0, 0, 0, 0, 0, 0, 0, 0, 0, 0, 0, 0, 0, 0, 0, 0, 0, 0, 0, 0, 0, 0, 0, 0, 0, 0, 0, 0, 0, 0, 0, 0, 0, 0, 0, 0, 0, 0, 0, 0, 0]\n",
            "result : ['benign']\n"
          ]
        }
      ]
    },
    {
      "cell_type": "markdown",
      "source": [
        "## **3. RandomForest**"
      ],
      "metadata": {
        "id": "vq78xGjTkf26"
      }
    },
    {
      "cell_type": "code",
      "source": [
        "import numpy as np\n",
        "import random\n",
        "import pickle\n",
        "import warnings\n",
        "from sklearn.ensemble import RandomForestClassifier\n",
        "from sklearn.model_selection import train_test_split\n",
        "from sklearn.metrics import classification_report\n",
        "from androguard.core.bytecodes.apk import APK\n",
        "warnings.filterwarnings(action='ignore')\n",
        "\n",
        "feature_vector = []\n",
        "\n",
        "with open('/content/drive/My Drive/Dataset/dataset/android_dataset.csv','r') as fp:\n",
        "\tfor i,line in enumerate(fp):\n",
        "\t\tif i == 0:\n",
        "\t\t\tpass\n",
        "\t\telse:\n",
        "\t\t\tfeature_vector.append([x.strip() for x in line.split(',')])\n",
        "\n",
        "random.shuffle(feature_vector)\n",
        "\n",
        "X = [x[:-1] for x in feature_vector]\n",
        "Y = [y[-1] for y in feature_vector]\n",
        "\n",
        "# train : test = 8: 2\n",
        "X_train, X_test, y_train, y_test = train_test_split(X, Y, train_size=0.8, test_size=0.2, random_state=0)\n",
        "\n",
        "# defining parameter range  - 후에 더 정밀한 값 넣기\n",
        "rf = RandomForestClassifier(n_estimators=1000, random_state=0, criterion=\"entropy\")\n",
        "\n",
        "# fitting the model\n",
        "rf.fit(X_train,y_train)\n",
        "\n",
        "# predict\n",
        "y_pred=rf.predict(X_test)\n",
        "rf_predictions = rf.predict(X_test) \n",
        "\n",
        "# print classification report \n",
        "print(classification_report(y_test, rf_predictions)) \n",
        "pickle.dump(rf, open('/content/drive/MyDrive/randomfrorest_new.pkl', 'wb'))\n",
        "\n",
        "def predict(apk):\n",
        "  vector = {}\n",
        "  a = APK(apk)\n",
        "  perm = a.get_permissions()\n",
        "  print(perm)\n",
        "  for d in perms:\n",
        "    if d in perm:\n",
        "      vector[d]=1\n",
        "    else:\n",
        "      vector[d]=0\n",
        "  input = [ v for v in vector.values() ]\n",
        "  print(input)\n",
        "  print('result :',rf.predict([input]))\n",
        "\n",
        "# test\n",
        "# malign apk\n",
        "predict('/content/drive/MyDrive/Dataset/1c53e2c34d1219a2fae8fcf8ec872ac8.apk')\n",
        "# malign apk\n",
        "predict('/content/drive/MyDrive/Dataset/a.envisionmobile.caa.apk')"
      ],
      "metadata": {
        "colab": {
          "base_uri": "https://localhost:8080/"
        },
        "id": "vV_MXuHbkj_y",
        "outputId": "2fdcee82-5037-4e90-fa70-1695e8016bd6"
      },
      "execution_count": 12,
      "outputs": [
        {
          "output_type": "stream",
          "name": "stdout",
          "text": [
            "              precision    recall  f1-score   support\n",
            "\n",
            "      benign       0.93      0.98      0.96       159\n",
            "      malign       0.96      0.87      0.91        84\n",
            "\n",
            "    accuracy                           0.94       243\n",
            "   macro avg       0.95      0.93      0.93       243\n",
            "weighted avg       0.94      0.94      0.94       243\n",
            "\n",
            "['android.permission.SYSTEM_ALERT_WINDOW', 'android.permission.READ_CONTACTS', 'android.permission.WRITE_EXTERNAL_STORAGE', 'android.permission.READ_PROFILE', 'android.permission.READ_PHONE_STATE', 'android.permission.CAMERA', 'android.permission.READ_EXTERNAL_STORAGE', 'android.permission.ACCESS_NETWORK_STATE', 'android.permission.WAKE_LOCK', 'com.android.browser.permission.READ_HISTORY_BOOKMARKS', 'android.permission.GET_ACCOUNTS', 'android.permission.RECEIVE_BOOT_COMPLETED', 'android.permission.GET_TASKS', 'android.permission.VIBRATE', 'android.permission.WRITE_SETTINGS', 'android.permission.INTERNET']\n",
            "[0, 0, 0, 0, 0, 0, 0, 0, 0, 0, 0, 0, 0, 0, 0, 0, 1, 0, 0, 0, 0, 0, 0, 0, 0, 0, 0, 0, 0, 0, 0, 0, 0, 0, 0, 0, 0, 0, 0, 0, 0, 0, 0, 0, 0, 0, 0, 0, 0, 0, 0, 0, 0, 0, 0, 0, 0, 0, 0, 0, 0, 0, 0, 0, 0, 0, 0, 0, 0, 0, 0, 0, 0, 0, 0, 0, 0, 0, 0, 0, 0, 0, 0, 0, 0, 0, 0, 0, 0, 0, 0, 0, 0, 0, 0, 0, 0, 0, 0, 0, 0, 0, 0, 0, 0, 0, 0, 0, 0, 0, 0, 0, 0, 0, 0, 0, 0, 0, 0, 0, 0, 0, 0, 0, 0, 0, 0, 0, 0, 0, 0, 0, 0, 0, 0, 0, 0, 0, 0, 0, 0, 0, 0, 0, 0, 0, 0, 1, 0, 0, 0, 0, 0, 0, 0, 0, 0, 0, 0, 0, 0, 0, 1, 0, 0, 0, 0, 0, 0, 0, 0, 0, 0, 0, 0, 0, 0, 0, 0, 0, 0, 0, 0, 0, 0, 0, 0, 0, 0, 0, 0, 0, 0, 0, 0, 0, 0, 0, 0, 0, 0, 0, 0, 0, 0, 0, 0, 0, 0, 0, 0, 0, 0, 0, 0, 0, 0, 0, 0, 0, 0, 0, 0, 0, 0, 0, 0, 0, 1, 0, 0, 0, 0, 0, 0, 0, 0, 0, 1, 0, 0, 0, 0, 0, 0, 0, 0, 0, 0, 0, 0, 0, 0, 0, 0, 0, 0, 0, 0, 0, 0, 0, 0, 0, 0, 0, 0, 0, 0, 0, 0, 0, 0, 0, 0, 0, 0, 0, 0, 0, 0, 0, 0, 0, 0, 0, 0, 0, 0, 0, 0, 0, 0, 0, 0, 1, 0, 0, 0, 0, 0, 0, 0, 0, 0, 0, 0, 0, 0, 0, 1, 1, 0, 0, 0, 0, 0, 0, 0, 1, 0, 0, 0, 0, 0, 1, 0, 1, 0, 1, 1, 0, 1, 0, 1, 0, 0, 0, 0, 0, 0, 0, 0, 0, 0, 0, 0, 0, 0, 0, 0, 0, 0, 0, 0, 0, 0, 0, 0, 0, 0, 0, 0, 0, 0, 0, 0, 0, 0, 0, 0, 0, 0, 0, 0, 0, 0, 0, 0, 0, 0, 0, 0, 0, 0, 0, 0, 0, 0, 0, 0, 0, 0, 0, 0, 0, 0, 0, 0, 0, 0, 0, 0, 0, 0, 0, 0, 0, 0, 0, 0, 0, 0, 0, 0, 0, 0, 0, 0, 0, 0, 0, 0, 0, 0, 0, 0, 0]\n",
            "result : ['malign']\n",
            "['android.permission.READ_CONTACTS', 'a.envisionmobile.caa.permission.C2D_MESSAGE', 'com.google.android.providers.gsf.permission.READ_GSERVICES', 'android.permission.WRITE_EXTERNAL_STORAGE', 'android.permission.RECORD_AUDIO', 'android.permission.READ_PHONE_STATE', 'com.aaa.android.aaamaps.permission.MAPS_RECEIVE', 'android.permission.CAMERA', 'android.permission.ACCESS_FINE_LOCATION', 'android.permission.ACCESS_NETWORK_STATE', 'com.google.android.c2dm.permission.RECEIVE', 'android.permission.WAKE_LOCK', 'android.permission.GET_ACCOUNTS', 'android.permission.MOUNT_UNMOUNT_FILESYSTEMS', 'android.permission.CALL_PHONE', 'android.permission.ACCESS_COARSE_LOCATION', 'android.permission.VIBRATE', 'android.permission.INTERNET']\n",
            "[0, 0, 0, 0, 0, 0, 0, 0, 0, 0, 0, 0, 0, 0, 0, 0, 1, 0, 0, 0, 0, 0, 0, 0, 0, 0, 0, 0, 0, 0, 0, 0, 0, 0, 0, 0, 0, 0, 0, 0, 0, 0, 0, 0, 0, 0, 0, 0, 0, 0, 0, 0, 0, 0, 0, 0, 0, 0, 0, 0, 0, 0, 0, 0, 0, 0, 0, 0, 0, 0, 0, 0, 0, 0, 0, 0, 0, 0, 0, 0, 0, 0, 0, 0, 0, 0, 0, 0, 0, 0, 0, 0, 0, 0, 0, 0, 0, 0, 0, 0, 0, 0, 0, 0, 0, 0, 0, 0, 0, 0, 0, 0, 0, 0, 0, 0, 0, 0, 0, 0, 0, 0, 0, 0, 0, 0, 0, 0, 0, 0, 0, 0, 0, 0, 0, 0, 0, 0, 0, 0, 0, 0, 0, 0, 0, 0, 0, 0, 0, 0, 0, 0, 0, 0, 0, 0, 0, 0, 0, 0, 0, 0, 1, 0, 0, 0, 0, 0, 0, 0, 0, 0, 0, 0, 0, 0, 0, 0, 0, 0, 0, 0, 0, 0, 0, 0, 0, 0, 0, 0, 0, 0, 0, 0, 0, 0, 0, 1, 0, 0, 0, 0, 0, 0, 0, 0, 0, 0, 0, 0, 0, 0, 0, 0, 0, 0, 0, 0, 0, 0, 0, 0, 0, 0, 0, 0, 0, 0, 0, 0, 0, 0, 0, 0, 0, 0, 0, 0, 0, 0, 0, 0, 0, 0, 0, 0, 0, 0, 0, 0, 0, 0, 0, 0, 0, 0, 0, 0, 0, 0, 0, 0, 0, 0, 0, 0, 0, 0, 0, 0, 0, 0, 0, 0, 0, 0, 0, 0, 0, 0, 0, 0, 0, 0, 0, 0, 0, 0, 0, 0, 0, 0, 0, 0, 0, 0, 0, 0, 0, 0, 0, 0, 0, 0, 0, 0, 0, 0, 0, 0, 1, 1, 0, 0, 0, 0, 0, 0, 0, 0, 0, 0, 0, 0, 1, 1, 1, 1, 0, 0, 1, 0, 1, 1, 1, 0, 0, 0, 0, 0, 0, 0, 0, 0, 1, 0, 0, 0, 0, 0, 0, 0, 0, 0, 0, 0, 0, 0, 0, 0, 0, 0, 0, 0, 0, 0, 0, 0, 0, 0, 0, 0, 0, 0, 0, 0, 0, 0, 0, 0, 0, 0, 0, 0, 0, 0, 0, 0, 0, 0, 0, 0, 0, 0, 0, 0, 0, 0, 0, 0, 0, 0, 0, 0, 0, 0, 0, 0, 0, 0, 0, 0, 0, 0, 0, 0, 0, 0, 0, 0, 0, 0, 0, 0, 0, 0, 0, 0]\n",
            "result : ['benign']\n"
          ]
        }
      ]
    },
    {
      "cell_type": "markdown",
      "source": [
        "## **4. XGBoost**"
      ],
      "metadata": {
        "id": "U3jp4jHdlwda"
      }
    },
    {
      "cell_type": "code",
      "source": [
        "import xgboost as xgb\n",
        "import pandas as pd\n",
        "import matplotlib.pyplot as plt\n",
        "import numpy as np\n",
        "import random\n",
        "import pickle\n",
        "import warnings\n",
        "from xgboost import XGBClassifier\n",
        "from sklearn.model_selection import train_test_split\n",
        "from androguard.core.bytecodes.apk import APK\n",
        "warnings.filterwarnings(action='ignore')\n",
        "\n",
        "feature_vector = []\n",
        "\n",
        "with open('/content/drive/My Drive/Dataset/dataset/android_dataset.csv','r') as fp:\n",
        "\tfor i,line in enumerate(fp):\n",
        "\t\tif i == 0:\n",
        "\t\t\tpass\n",
        "\t\telse:\n",
        "\t\t\tfeature_vector.append([x.strip() for x in line.split(',')])\n",
        "\n",
        "X = [x[:-1] for x in feature_vector]\n",
        "Y = [y[-1] for y in feature_vector]\n",
        "\n",
        "# Fit the classifier to the training set\n",
        "X_train, X_test, y_train, y_test = train_test_split(X, Y, train_size=0.8, test_size=0.2, random_state=0)\n",
        "X_train=np.array(X_train)\n",
        "y_train=np.array(y_train)\n",
        "X_test=np.array(X_test)\n",
        "\n",
        "# defining parameter range  - 후에 더 정밀한 값 넣기\n",
        "xgb = XGBClassifier(max_depth=10, learning_rate=1, n_estimators=100)\n",
        "\n",
        "# fitting the model\n",
        "xgb.fit(X_train,y_train)\n",
        "\n",
        "# predict\n",
        "y_pred=xgb.predict(X_test)\n",
        "xgb_predictions = xgb.predict(X_test)\n",
        "\n",
        "# print classification report \n",
        "print(classification_report(y_test, xgb_predictions)) \n",
        "pickle.dump(xgb, open('/content/drive/MyDrive/xgboost_new.pkl', 'wb'))\n",
        "\n",
        "def predict(apk):\n",
        "  vector = {}\n",
        "  a = APK(apk)\n",
        "  perm = a.get_permissions()\n",
        "  print(perm)\n",
        "  for d in perms:\n",
        "    if d in perm:\n",
        "      vector[d]=1\n",
        "    else:\n",
        "      vector[d]=0\n",
        "  input = [ v for v in vector.values() ]\n",
        "  print(input)\n",
        "  print('result :',xgb.predict([input]))\n",
        "\n",
        "# test\n",
        "# malign apk\n",
        "predict('/content/drive/MyDrive/Dataset/1c53e2c34d1219a2fae8fcf8ec872ac8.apk')\n",
        "# malign apk\n",
        "predict('/content/drive/MyDrive/Dataset/a.envisionmobile.caa.apk')"
      ],
      "metadata": {
        "id": "i37mXIl2l0By",
        "colab": {
          "base_uri": "https://localhost:8080/"
        },
        "outputId": "b967de4e-7f71-4904-942a-b14bad44f3f3"
      },
      "execution_count": 13,
      "outputs": [
        {
          "output_type": "stream",
          "name": "stdout",
          "text": [
            "              precision    recall  f1-score   support\n",
            "\n",
            "      benign       0.95      0.90      0.93       153\n",
            "      malign       0.85      0.92      0.88        90\n",
            "\n",
            "    accuracy                           0.91       243\n",
            "   macro avg       0.90      0.91      0.90       243\n",
            "weighted avg       0.91      0.91      0.91       243\n",
            "\n",
            "['android.permission.SYSTEM_ALERT_WINDOW', 'android.permission.READ_CONTACTS', 'android.permission.WRITE_EXTERNAL_STORAGE', 'android.permission.READ_PROFILE', 'android.permission.READ_PHONE_STATE', 'android.permission.CAMERA', 'android.permission.READ_EXTERNAL_STORAGE', 'android.permission.ACCESS_NETWORK_STATE', 'android.permission.WAKE_LOCK', 'com.android.browser.permission.READ_HISTORY_BOOKMARKS', 'android.permission.GET_ACCOUNTS', 'android.permission.RECEIVE_BOOT_COMPLETED', 'android.permission.GET_TASKS', 'android.permission.VIBRATE', 'android.permission.WRITE_SETTINGS', 'android.permission.INTERNET']\n",
            "[0, 0, 0, 0, 0, 0, 0, 0, 0, 0, 0, 0, 0, 0, 0, 0, 1, 0, 0, 0, 0, 0, 0, 0, 0, 0, 0, 0, 0, 0, 0, 0, 0, 0, 0, 0, 0, 0, 0, 0, 0, 0, 0, 0, 0, 0, 0, 0, 0, 0, 0, 0, 0, 0, 0, 0, 0, 0, 0, 0, 0, 0, 0, 0, 0, 0, 0, 0, 0, 0, 0, 0, 0, 0, 0, 0, 0, 0, 0, 0, 0, 0, 0, 0, 0, 0, 0, 0, 0, 0, 0, 0, 0, 0, 0, 0, 0, 0, 0, 0, 0, 0, 0, 0, 0, 0, 0, 0, 0, 0, 0, 0, 0, 0, 0, 0, 0, 0, 0, 0, 0, 0, 0, 0, 0, 0, 0, 0, 0, 0, 0, 0, 0, 0, 0, 0, 0, 0, 0, 0, 0, 0, 0, 0, 0, 0, 0, 1, 0, 0, 0, 0, 0, 0, 0, 0, 0, 0, 0, 0, 0, 0, 1, 0, 0, 0, 0, 0, 0, 0, 0, 0, 0, 0, 0, 0, 0, 0, 0, 0, 0, 0, 0, 0, 0, 0, 0, 0, 0, 0, 0, 0, 0, 0, 0, 0, 0, 0, 0, 0, 0, 0, 0, 0, 0, 0, 0, 0, 0, 0, 0, 0, 0, 0, 0, 0, 0, 0, 0, 0, 0, 0, 0, 0, 0, 0, 0, 0, 1, 0, 0, 0, 0, 0, 0, 0, 0, 0, 1, 0, 0, 0, 0, 0, 0, 0, 0, 0, 0, 0, 0, 0, 0, 0, 0, 0, 0, 0, 0, 0, 0, 0, 0, 0, 0, 0, 0, 0, 0, 0, 0, 0, 0, 0, 0, 0, 0, 0, 0, 0, 0, 0, 0, 0, 0, 0, 0, 0, 0, 0, 0, 0, 0, 0, 0, 1, 0, 0, 0, 0, 0, 0, 0, 0, 0, 0, 0, 0, 0, 0, 1, 1, 0, 0, 0, 0, 0, 0, 0, 1, 0, 0, 0, 0, 0, 1, 0, 1, 0, 1, 1, 0, 1, 0, 1, 0, 0, 0, 0, 0, 0, 0, 0, 0, 0, 0, 0, 0, 0, 0, 0, 0, 0, 0, 0, 0, 0, 0, 0, 0, 0, 0, 0, 0, 0, 0, 0, 0, 0, 0, 0, 0, 0, 0, 0, 0, 0, 0, 0, 0, 0, 0, 0, 0, 0, 0, 0, 0, 0, 0, 0, 0, 0, 0, 0, 0, 0, 0, 0, 0, 0, 0, 0, 0, 0, 0, 0, 0, 0, 0, 0, 0, 0, 0, 0, 0, 0, 0, 0, 0, 0, 0, 0, 0, 0, 0, 0, 0]\n",
            "result : ['malign']\n",
            "['android.permission.READ_CONTACTS', 'a.envisionmobile.caa.permission.C2D_MESSAGE', 'com.google.android.providers.gsf.permission.READ_GSERVICES', 'android.permission.WRITE_EXTERNAL_STORAGE', 'android.permission.RECORD_AUDIO', 'android.permission.READ_PHONE_STATE', 'com.aaa.android.aaamaps.permission.MAPS_RECEIVE', 'android.permission.CAMERA', 'android.permission.ACCESS_FINE_LOCATION', 'android.permission.ACCESS_NETWORK_STATE', 'com.google.android.c2dm.permission.RECEIVE', 'android.permission.WAKE_LOCK', 'android.permission.GET_ACCOUNTS', 'android.permission.MOUNT_UNMOUNT_FILESYSTEMS', 'android.permission.CALL_PHONE', 'android.permission.ACCESS_COARSE_LOCATION', 'android.permission.VIBRATE', 'android.permission.INTERNET']\n",
            "[0, 0, 0, 0, 0, 0, 0, 0, 0, 0, 0, 0, 0, 0, 0, 0, 1, 0, 0, 0, 0, 0, 0, 0, 0, 0, 0, 0, 0, 0, 0, 0, 0, 0, 0, 0, 0, 0, 0, 0, 0, 0, 0, 0, 0, 0, 0, 0, 0, 0, 0, 0, 0, 0, 0, 0, 0, 0, 0, 0, 0, 0, 0, 0, 0, 0, 0, 0, 0, 0, 0, 0, 0, 0, 0, 0, 0, 0, 0, 0, 0, 0, 0, 0, 0, 0, 0, 0, 0, 0, 0, 0, 0, 0, 0, 0, 0, 0, 0, 0, 0, 0, 0, 0, 0, 0, 0, 0, 0, 0, 0, 0, 0, 0, 0, 0, 0, 0, 0, 0, 0, 0, 0, 0, 0, 0, 0, 0, 0, 0, 0, 0, 0, 0, 0, 0, 0, 0, 0, 0, 0, 0, 0, 0, 0, 0, 0, 0, 0, 0, 0, 0, 0, 0, 0, 0, 0, 0, 0, 0, 0, 0, 1, 0, 0, 0, 0, 0, 0, 0, 0, 0, 0, 0, 0, 0, 0, 0, 0, 0, 0, 0, 0, 0, 0, 0, 0, 0, 0, 0, 0, 0, 0, 0, 0, 0, 0, 1, 0, 0, 0, 0, 0, 0, 0, 0, 0, 0, 0, 0, 0, 0, 0, 0, 0, 0, 0, 0, 0, 0, 0, 0, 0, 0, 0, 0, 0, 0, 0, 0, 0, 0, 0, 0, 0, 0, 0, 0, 0, 0, 0, 0, 0, 0, 0, 0, 0, 0, 0, 0, 0, 0, 0, 0, 0, 0, 0, 0, 0, 0, 0, 0, 0, 0, 0, 0, 0, 0, 0, 0, 0, 0, 0, 0, 0, 0, 0, 0, 0, 0, 0, 0, 0, 0, 0, 0, 0, 0, 0, 0, 0, 0, 0, 0, 0, 0, 0, 0, 0, 0, 0, 0, 0, 0, 0, 0, 0, 0, 0, 0, 1, 1, 0, 0, 0, 0, 0, 0, 0, 0, 0, 0, 0, 0, 1, 1, 1, 1, 0, 0, 1, 0, 1, 1, 1, 0, 0, 0, 0, 0, 0, 0, 0, 0, 1, 0, 0, 0, 0, 0, 0, 0, 0, 0, 0, 0, 0, 0, 0, 0, 0, 0, 0, 0, 0, 0, 0, 0, 0, 0, 0, 0, 0, 0, 0, 0, 0, 0, 0, 0, 0, 0, 0, 0, 0, 0, 0, 0, 0, 0, 0, 0, 0, 0, 0, 0, 0, 0, 0, 0, 0, 0, 0, 0, 0, 0, 0, 0, 0, 0, 0, 0, 0, 0, 0, 0, 0, 0, 0, 0, 0, 0, 0, 0, 0, 0, 0, 0]\n",
            "result : ['benign']\n"
          ]
        }
      ]
    },
    {
      "cell_type": "markdown",
      "source": [
        "## **5. Decision Tree**"
      ],
      "metadata": {
        "id": "uIxoFK_ql6w6"
      }
    },
    {
      "cell_type": "code",
      "source": [
        "import numpy as np\n",
        "import random\n",
        "import pickle\n",
        "import warnings\n",
        "from sklearn.tree import DecisionTreeClassifier\n",
        "from sklearn.model_selection import train_test_split\n",
        "from sklearn.metrics import classification_report\n",
        "from sklearn.metrics import accuracy_score\n",
        "from androguard.core.bytecodes.apk import APK\n",
        "warnings.filterwarnings(action='ignore')\n",
        "\n",
        "feature_vector = []\n",
        "\n",
        "with open('/content/drive/My Drive/Dataset/dataset/android_dataset.csv','r') as fp:\n",
        "\tfor i,line in enumerate(fp):\n",
        "\t\tif i == 0:\n",
        "\t\t\tpass\n",
        "\t\telse:\n",
        "\t\t\tfeature_vector.append([x.strip() for x in line.split(',')])\n",
        "\n",
        "random.shuffle(feature_vector)\n",
        "\n",
        "X = [x[:-1] for x in feature_vector]\n",
        "Y = [y[-1] for y in feature_vector]\n",
        "\n",
        "# train : test = 8: 2\n",
        "X_train, X_test, y_train, y_test = train_test_split(X, Y, train_size=0.8, test_size=0.2, random_state=0)\n",
        "\n",
        "# defining parameter range  - 후에 더 정밀한 값 넣기\n",
        "decisiontree = DecisionTreeClassifier(random_state=0)\n",
        "\n",
        "# fitting the model\n",
        "decisiontree.fit(X_train,y_train)\n",
        "\n",
        "# predict\n",
        "y_pred=decisiontree.predict(X_test)\n",
        "decisiontree_predictions = decisiontree.predict(X_test) \n",
        "\n",
        "# print classification report \n",
        "print(classification_report(y_test, decisiontree_predictions)) \n",
        "pickle.dump(decisiontree, open('/content/drive/MyDrive/decisiontree_new.pkl', 'wb'))\n",
        "\n",
        "def predict(apk):\n",
        "  vector = {}\n",
        "  a = APK(apk)\n",
        "  perm = a.get_permissions()\n",
        "  print(perm)\n",
        "  for d in perms:\n",
        "    if d in perm:\n",
        "      vector[d]=1\n",
        "    else:\n",
        "      vector[d]=0\n",
        "  input = [ v for v in vector.values() ]\n",
        "  print(input)\n",
        "  print('result :',decisiontree.predict([input]))\n",
        "\n",
        "# test\n",
        "# malign apk\n",
        "predict('/content/drive/MyDrive/Dataset/1c53e2c34d1219a2fae8fcf8ec872ac8.apk')\n",
        "# malign apk\n",
        "predict('/content/drive/MyDrive/Dataset/a.envisionmobile.caa.apk')"
      ],
      "metadata": {
        "id": "Lwfr7oLpl9LC",
        "colab": {
          "base_uri": "https://localhost:8080/"
        },
        "outputId": "90b131de-4afd-4659-f759-de56aefa6303"
      },
      "execution_count": 15,
      "outputs": [
        {
          "output_type": "stream",
          "name": "stdout",
          "text": [
            "              precision    recall  f1-score   support\n",
            "\n",
            "      benign       0.92      0.89      0.91       158\n",
            "      malign       0.81      0.86      0.83        85\n",
            "\n",
            "    accuracy                           0.88       243\n",
            "   macro avg       0.87      0.88      0.87       243\n",
            "weighted avg       0.88      0.88      0.88       243\n",
            "\n",
            "['android.permission.SYSTEM_ALERT_WINDOW', 'android.permission.READ_CONTACTS', 'android.permission.WRITE_EXTERNAL_STORAGE', 'android.permission.READ_PROFILE', 'android.permission.READ_PHONE_STATE', 'android.permission.CAMERA', 'android.permission.READ_EXTERNAL_STORAGE', 'android.permission.ACCESS_NETWORK_STATE', 'android.permission.WAKE_LOCK', 'com.android.browser.permission.READ_HISTORY_BOOKMARKS', 'android.permission.GET_ACCOUNTS', 'android.permission.RECEIVE_BOOT_COMPLETED', 'android.permission.GET_TASKS', 'android.permission.VIBRATE', 'android.permission.WRITE_SETTINGS', 'android.permission.INTERNET']\n",
            "[0, 0, 0, 0, 0, 0, 0, 0, 0, 0, 0, 0, 0, 0, 0, 0, 1, 0, 0, 0, 0, 0, 0, 0, 0, 0, 0, 0, 0, 0, 0, 0, 0, 0, 0, 0, 0, 0, 0, 0, 0, 0, 0, 0, 0, 0, 0, 0, 0, 0, 0, 0, 0, 0, 0, 0, 0, 0, 0, 0, 0, 0, 0, 0, 0, 0, 0, 0, 0, 0, 0, 0, 0, 0, 0, 0, 0, 0, 0, 0, 0, 0, 0, 0, 0, 0, 0, 0, 0, 0, 0, 0, 0, 0, 0, 0, 0, 0, 0, 0, 0, 0, 0, 0, 0, 0, 0, 0, 0, 0, 0, 0, 0, 0, 0, 0, 0, 0, 0, 0, 0, 0, 0, 0, 0, 0, 0, 0, 0, 0, 0, 0, 0, 0, 0, 0, 0, 0, 0, 0, 0, 0, 0, 0, 0, 0, 0, 1, 0, 0, 0, 0, 0, 0, 0, 0, 0, 0, 0, 0, 0, 0, 1, 0, 0, 0, 0, 0, 0, 0, 0, 0, 0, 0, 0, 0, 0, 0, 0, 0, 0, 0, 0, 0, 0, 0, 0, 0, 0, 0, 0, 0, 0, 0, 0, 0, 0, 0, 0, 0, 0, 0, 0, 0, 0, 0, 0, 0, 0, 0, 0, 0, 0, 0, 0, 0, 0, 0, 0, 0, 0, 0, 0, 0, 0, 0, 0, 0, 1, 0, 0, 0, 0, 0, 0, 0, 0, 0, 1, 0, 0, 0, 0, 0, 0, 0, 0, 0, 0, 0, 0, 0, 0, 0, 0, 0, 0, 0, 0, 0, 0, 0, 0, 0, 0, 0, 0, 0, 0, 0, 0, 0, 0, 0, 0, 0, 0, 0, 0, 0, 0, 0, 0, 0, 0, 0, 0, 0, 0, 0, 0, 0, 0, 0, 0, 1, 0, 0, 0, 0, 0, 0, 0, 0, 0, 0, 0, 0, 0, 0, 1, 1, 0, 0, 0, 0, 0, 0, 0, 1, 0, 0, 0, 0, 0, 1, 0, 1, 0, 1, 1, 0, 1, 0, 1, 0, 0, 0, 0, 0, 0, 0, 0, 0, 0, 0, 0, 0, 0, 0, 0, 0, 0, 0, 0, 0, 0, 0, 0, 0, 0, 0, 0, 0, 0, 0, 0, 0, 0, 0, 0, 0, 0, 0, 0, 0, 0, 0, 0, 0, 0, 0, 0, 0, 0, 0, 0, 0, 0, 0, 0, 0, 0, 0, 0, 0, 0, 0, 0, 0, 0, 0, 0, 0, 0, 0, 0, 0, 0, 0, 0, 0, 0, 0, 0, 0, 0, 0, 0, 0, 0, 0, 0, 0, 0, 0, 0, 0]\n",
            "result : ['malign']\n",
            "['android.permission.READ_CONTACTS', 'a.envisionmobile.caa.permission.C2D_MESSAGE', 'com.google.android.providers.gsf.permission.READ_GSERVICES', 'android.permission.WRITE_EXTERNAL_STORAGE', 'android.permission.RECORD_AUDIO', 'android.permission.READ_PHONE_STATE', 'com.aaa.android.aaamaps.permission.MAPS_RECEIVE', 'android.permission.CAMERA', 'android.permission.ACCESS_FINE_LOCATION', 'android.permission.ACCESS_NETWORK_STATE', 'com.google.android.c2dm.permission.RECEIVE', 'android.permission.WAKE_LOCK', 'android.permission.GET_ACCOUNTS', 'android.permission.MOUNT_UNMOUNT_FILESYSTEMS', 'android.permission.CALL_PHONE', 'android.permission.ACCESS_COARSE_LOCATION', 'android.permission.VIBRATE', 'android.permission.INTERNET']\n",
            "[0, 0, 0, 0, 0, 0, 0, 0, 0, 0, 0, 0, 0, 0, 0, 0, 1, 0, 0, 0, 0, 0, 0, 0, 0, 0, 0, 0, 0, 0, 0, 0, 0, 0, 0, 0, 0, 0, 0, 0, 0, 0, 0, 0, 0, 0, 0, 0, 0, 0, 0, 0, 0, 0, 0, 0, 0, 0, 0, 0, 0, 0, 0, 0, 0, 0, 0, 0, 0, 0, 0, 0, 0, 0, 0, 0, 0, 0, 0, 0, 0, 0, 0, 0, 0, 0, 0, 0, 0, 0, 0, 0, 0, 0, 0, 0, 0, 0, 0, 0, 0, 0, 0, 0, 0, 0, 0, 0, 0, 0, 0, 0, 0, 0, 0, 0, 0, 0, 0, 0, 0, 0, 0, 0, 0, 0, 0, 0, 0, 0, 0, 0, 0, 0, 0, 0, 0, 0, 0, 0, 0, 0, 0, 0, 0, 0, 0, 0, 0, 0, 0, 0, 0, 0, 0, 0, 0, 0, 0, 0, 0, 0, 1, 0, 0, 0, 0, 0, 0, 0, 0, 0, 0, 0, 0, 0, 0, 0, 0, 0, 0, 0, 0, 0, 0, 0, 0, 0, 0, 0, 0, 0, 0, 0, 0, 0, 0, 1, 0, 0, 0, 0, 0, 0, 0, 0, 0, 0, 0, 0, 0, 0, 0, 0, 0, 0, 0, 0, 0, 0, 0, 0, 0, 0, 0, 0, 0, 0, 0, 0, 0, 0, 0, 0, 0, 0, 0, 0, 0, 0, 0, 0, 0, 0, 0, 0, 0, 0, 0, 0, 0, 0, 0, 0, 0, 0, 0, 0, 0, 0, 0, 0, 0, 0, 0, 0, 0, 0, 0, 0, 0, 0, 0, 0, 0, 0, 0, 0, 0, 0, 0, 0, 0, 0, 0, 0, 0, 0, 0, 0, 0, 0, 0, 0, 0, 0, 0, 0, 0, 0, 0, 0, 0, 0, 0, 0, 0, 0, 0, 0, 1, 1, 0, 0, 0, 0, 0, 0, 0, 0, 0, 0, 0, 0, 1, 1, 1, 1, 0, 0, 1, 0, 1, 1, 1, 0, 0, 0, 0, 0, 0, 0, 0, 0, 1, 0, 0, 0, 0, 0, 0, 0, 0, 0, 0, 0, 0, 0, 0, 0, 0, 0, 0, 0, 0, 0, 0, 0, 0, 0, 0, 0, 0, 0, 0, 0, 0, 0, 0, 0, 0, 0, 0, 0, 0, 0, 0, 0, 0, 0, 0, 0, 0, 0, 0, 0, 0, 0, 0, 0, 0, 0, 0, 0, 0, 0, 0, 0, 0, 0, 0, 0, 0, 0, 0, 0, 0, 0, 0, 0, 0, 0, 0, 0, 0, 0, 0, 0]\n",
            "result : ['benign']\n"
          ]
        }
      ]
    }
  ]
}